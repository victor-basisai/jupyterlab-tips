{
 "cells": [
  {
   "cell_type": "markdown",
   "metadata": {},
   "source": [
    "# APIEndpointTesting"
   ]
  },
  {
   "cell_type": "code",
   "execution_count": null,
   "metadata": {},
   "outputs": [],
   "source": [
    "# Endpoint configurations\n",
    "## Public Endpoint\n",
    "MODEL_ENDPOINT = 'https://hidden-star-7888.pub.playground.bdrk.ai'\n",
    "## Private Endpoint \n",
    "## Pattern follows 'http://<endpoint-name>-<commit-id>.deployment.svc.cluster.local:16030'\n",
    "\n",
    "## Bedrock Express\n",
    "MODEL_INFER_ENDPOINT = MODEL_ENDPOINT\n",
    "\n",
    "## Normal Flask Endpoint\n",
    "## MODEL_INFER_ENDPOINT = MODEL_ENDPOINT + \"/infer\""
   ]
  },
  {
   "cell_type": "markdown",
   "metadata": {},
   "source": [
    "## 1. Ping Public Index Page using PyCurl"
   ]
  },
  {
   "cell_type": "code",
   "execution_count": null,
   "metadata": {},
   "outputs": [],
   "source": [
    "import pycurl\n",
    "from io import BytesIO \n",
    "from IPython.core.display import display, HTML\n",
    "\n",
    "def ping_homepage(url):\n",
    "\n",
    "    b_obj = BytesIO() \n",
    "    crl = pycurl.Curl() \n",
    "\n",
    "    # Set URL value\n",
    "    crl.setopt(crl.URL, url)\n",
    "    # Write bytes that are utf-8 encoded\n",
    "    crl.setopt(crl.WRITEDATA, b_obj)\n",
    "    # Perform the request\n",
    "    crl.perform() \n",
    "    # End curl session\n",
    "    crl.close()\n",
    "    # Get the content stored in the BytesIO object (in byte characters) \n",
    "    get_body = b_obj.getvalue()\n",
    "    # Decode the bytes stored in get_body to HTML and print the result \n",
    "    # print('Output of GET request:\\n%s' % get_body.decode('utf8')) \n",
    "    display(HTML(get_body.decode('utf8')))\n",
    "    \n",
    "ping_homepage(MODEL_ENDPOINT)"
   ]
  },
  {
   "cell_type": "markdown",
   "metadata": {},
   "source": [
    "## 2. Ping API endpoint using requests\n"
   ]
  },
  {
   "cell_type": "code",
   "execution_count": null,
   "metadata": {},
   "outputs": [],
   "source": [
    "import requests\n",
    "import json\n",
    "\n",
    "# Prepare data\n",
    "data = {}\n",
    "\n",
    "# Add API token to header\n",
    "headers = {\n",
    "    'Content-Type': 'application/json'\n",
    "    'X-Bedrock-Api-Token': ''\n",
    "}\n",
    "\n",
    "# Call \n",
    "response = requests.post(MODEL_INFER_ENDPOINT, headers=headers, data=json.dumps(data))\n",
    "print(response.ok)\n",
    "print(response.json())\n",
    "print(response.content)\n",
    "print(response.text)"
   ]
  }
 ],
 "metadata": {
  "kernelspec": {
   "display_name": "Python 3",
   "language": "python",
   "name": "python3"
  },
  "language_info": {
   "codemirror_mode": {
    "name": "ipython",
    "version": 3
   },
   "file_extension": ".py",
   "mimetype": "text/x-python",
   "name": "python",
   "nbconvert_exporter": "python",
   "pygments_lexer": "ipython3",
   "version": "3.7.9"
  }
 },
 "nbformat": 4,
 "nbformat_minor": 4
}
